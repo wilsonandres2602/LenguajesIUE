{
  "nbformat": 4,
  "nbformat_minor": 0,
  "metadata": {
    "colab": {
      "provenance": [],
      "authorship_tag": "ABX9TyMsoBR+q59tORpscjErxtHG",
      "include_colab_link": true
    },
    "kernelspec": {
      "name": "python3",
      "display_name": "Python 3"
    },
    "language_info": {
      "name": "python"
    }
  },
  "cells": [
    {
      "cell_type": "markdown",
      "metadata": {
        "id": "view-in-github",
        "colab_type": "text"
      },
      "source": [
        "<a href=\"https://colab.research.google.com/github/wilsonandres2602/LenguajesIUE/blob/main/Temperaturas_py.ipynb\" target=\"_parent\"><img src=\"https://colab.research.google.com/assets/colab-badge.svg\" alt=\"Open In Colab\"/></a>"
      ]
    },
    {
      "cell_type": "code",
      "source": [
        "import requests\n",
        "import concurrent.futures\n",
        "from estadisticas import calcular_estadisticas  # Invocacion libreria estadisticas/calcular_estadisticas\n",
        "\n",
        "# URL de la API para obtener las temperaturas\n",
        "API_URL = \"https://weather.siel.com.co/city/{city}/temp/max\"\n",
        "TOKEN = \"Bearer secret-token-1234\"\n",
        "\n",
        "# Función para obtener las temperaturas de 10 años\n",
        "def obtener_temperaturas_10_anos(city):\n",
        "    temperaturas_max = []\n",
        "    for año in range(2013, 2023):  # Asumiendo que los datos van del 2013 al 2022\n",
        "        try:\n",
        "            response = requests.get(f\"{API_URL.format(city=city)}?year={año}\", headers={'Authorization': TOKEN})\n",
        "            response.raise_for_status()  # Lanza un error si el código de estado no es 200\n",
        "            temperaturas_max.append(response.json()['temperature'])  # Suponiendo que la API devuelve 'temperature'\n",
        "        except requests.exceptions.RequestException as e:\n",
        "            print(f\"Error al obtener datos de {city} para el año {año}: {e}\")\n",
        "            temperaturas_max.append(None)  # Si falla, agregamos None\n",
        "\n",
        "    return temperaturas_max\n",
        "\n",
        "# Función para obtener las temperaturas de varias ciudades de forma concurrente\n",
        "def obtener_temperaturas_concurrentes(cities):\n",
        "    with concurrent.futures.ThreadPoolExecutor() as executor:\n",
        "        temperaturas = list(executor.map(obtener_temperaturas_10_anos, cities))\n",
        "    return temperaturas\n",
        "\n",
        "# Función principal para calcular las estadísticas de las temperaturas\n",
        "def calcular_estadisticas_temperaturas(cities):\n",
        "    temperaturas = obtener_temperaturas_concurrentes(cities)\n",
        "    # Filtramos las temperaturas válidas (no None)\n",
        "    temperaturas_validas = [temp for temp in temperaturas if None not in temp]  # Removemos ciudades con None en las temperaturas\n",
        "\n",
        "    if len(temperaturas_validas) > 0:\n",
        "        # Flatten the list of temperatures (flatten to get all temperatures in one list)\n",
        "        all_temperatures = [temp for sublist in temperaturas_validas for temp in sublist]\n",
        "        estadisticas = calcular_estadisticas(all_temperatures)  # Utilizamos la librería de estadísticas\n",
        "        return estadisticas\n",
        "    else:\n",
        "        return \"No se obtuvieron temperaturas válidas.\"\n",
        "\n",
        "# Lista de ciudades para obtener las temperaturas\n",
        "cities = [\"paris\", \"new_york\", \"madrid\", \"london\", \"tokyo\", \"sydney\", \"beijing\", \"moscow\", \"berlin\", \"dubai\"]\n",
        "\n",
        "# Calcular y mostrar las estadísticas\n",
        "estadisticas = calcular_estadisticas_temperaturas(cities)\n",
        "\n",
        "# Imprimir los resultados\n",
        "print(\"\\nEstadísticas de temperaturas obtenidas:\")\n",
        "print(estadisticas)\n"
      ],
      "metadata": {
        "id": "j7gcqYFYykMC"
      },
      "execution_count": null,
      "outputs": []
    }
  ]
}